{
 "cells": [
  {
   "cell_type": "markdown",
   "metadata": {},
   "source": [
    "# Text classification with the Naive Bayes algorithm #\n",
    "\n",
    "**Machine Learning** (ML) is a sub-field of Artificial Intelligence (AI) that automates analytical model building. As the amount of data grows, ML is becoming the defacto standard within all research fields. So what does it mean that a machine *learns*? Given enough data, we can offload programming tasks to the algorithm, that is, the algorithm learns structure from the data:\n",
    "\n",
    "Tom Mitchell's **A well-posed learning problem**: \"A computer program is said to learn from experience $E$ with respect to some task $T$ and some performance measure $P$, if its performance on $T$, as measured by $P$, improves with experience $E$\"\n",
    "\n",
    "**Classification** is one is a primary task of supervised learning. Given labeled data, a classification algorithm will output a solution that categorizes new examples (i.e., associate labels with subsets of the data). While unsupervised learning searches for groups within the data, classification learns to map a data set onto a categorical class values or labels (i.e., function approximation).\n",
    "\n",
    "The **Naive Bayes** (NB) algorithm is a generative algorithm that is very popular for text classification. \n",
    "The probability of a document $d$ being in class $c$, $P(c \\mid d)$ is computed as:\n",
    "\n",
    "\n",
    "$$ P(c \\mid d) \\propto P(c) \\prod_{i = 1}^{m}P(t_i \\mid c) $$\n",
    "and the class of a document $d$ is then computed as:\n",
    "\n",
    "$$c_{MAP} = arg~max_{c \\in \\{c_1, c_2 \\}} P(c \\mid d)$$\n"
   ]
  },
  {
   "cell_type": "markdown",
   "metadata": {},
   "source": [
    "## Research problem ##\n",
    "\n",
    "The medieval writer Saxo Grammatricus (c. 1160 - post 1208) represents the beginning of the modern day historian in Scandinavia. Saxo's history of the Danes *Gesta Danorum* (\"Deeds of the Danes\") is the single most important written source to Danish history in the 12<sup>th</sup> century. *Gesta Danorum*  is tendentious, contains elements of fiction, and its compositions has been an academic subject of debate for more than a century. The more recent debate treat the bipartite composition *Gesta Danorum* and centers on two related issues: 1) is the transition between the old mythical and new historical part located in book eight, nine, or ten; and 2) is this transition gradual (continuous) or sudden (point-like)? In this tutorial we will ask \"is book nine more similar to the early books (1-8) or the late books (10-16)\". This is an example uses simple vector space techniques from author chronometry to represent the most salient stylistic and semantic leaxical features of *Gesta Danorum*."
   ]
  },
  {
   "cell_type": "code",
   "execution_count": 3,
   "metadata": {},
   "outputs": [
    {
     "name": "stdout",
     "output_type": "stream",
     "text": [
      "      book book_class  slice_id  \\\n",
      "1263    16       late        33   \n",
      "1264    16       late        34   \n",
      "1265    16       late        35   \n",
      "1266    16       late        36   \n",
      "1267    16       late        37   \n",
      "\n",
      "                                                content  \n",
      "1263  sig dog nøje med æren og trak sig lidt efter l...  \n",
      "1264  de dødeliges boliger han opgav så sin vrede fo...  \n",
      "1265  på at betale en kolossal sum bøde og ikke kunn...  \n",
      "1266  vågnede om morgenen og fik øje på vagterne pri...  \n",
      "1267  et varsel om det vendiske riges undergang bugi...  \n",
      "{'late', 'early', 'uncertain'}\n"
     ]
    }
   ],
   "source": [
    "import os\n",
    "import numpy as np\n",
    "import pandas as pd\n",
    "\n",
    "from sklearn.feature_extraction.text import CountVectorizer\n",
    "from sklearn.naive_bayes import MultinomialNB\n",
    "from sklearn import metrics\n",
    "from collections import Counter\n",
    "\n",
    "\n",
    "data_path = os.path.join(\"data\",\"saxo_books\",\"saxo_class.csv\")\n",
    "\n",
    "data = pd.read_csv(data_path)\n",
    "\n",
    "print(data.tail())\n",
    "\n",
    "print(set(data[\"book_class\"]))"
   ]
  }
 ],
 "metadata": {
  "kernelspec": {
   "display_name": "Python 3",
   "language": "python",
   "name": "python3"
  },
  "language_info": {
   "codemirror_mode": {
    "name": "ipython",
    "version": 3
   },
   "file_extension": ".py",
   "mimetype": "text/x-python",
   "name": "python",
   "nbconvert_exporter": "python",
   "pygments_lexer": "ipython3",
   "version": "3.5.2"
  }
 },
 "nbformat": 4,
 "nbformat_minor": 2
}
