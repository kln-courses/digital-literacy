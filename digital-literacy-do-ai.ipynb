{
 "cells": [
  {
   "cell_type": "markdown",
   "metadata": {},
   "source": [
    "# Text classification with the Naive Bayes algorithm #\n",
    "\n",
    "**Machine Learning** (ML) is a sub-field of Artificial Intelligence (AI) that automates analytical model building. As the amount of data grows, ML is becoming the defacto standard within all research fields. So what does it mean that a machine *learns*? Given enough data, we can offload programming tasks to the algorithm, that is, the algorithm learns structure from the data:\n",
    "\n",
    "Tom Mitchell's **A well-posed learning problem**: \"A computer program is said to learn from experience $E$ with respect to some task $T$ and some performance measure $P$, if its performance on $T$, as measured by $P$, improves with experience $E$\"\n",
    "\n",
    "**Classification** is one is a primary task of supervised learning. Given labeled data, a classification algorithm will output a solution that categorizes new examples (i.e., associate labels with subsets of the data). While unsupervised learning searches for groups within the data, classification learns to map a data set onto a categorical class values or labels (i.e., function approximation).\n",
    "\n",
    "The **Naive Bayes** (NB) algorithm is a generative algorithm that is very popular for text classification. \n",
    "The probability of a document $d$ being in class $c$, $P(c \\mid d)$ is computed as:\n",
    "\n",
    "\n",
    "$$ P(c \\mid d) \\propto P(c) \\prod_{i = 1}^{m}P(t_i \\mid c) $$\n",
    "and the class of a document $d$ is then computed as:\n",
    "\n",
    "$$c_{MAP} = arg~max_{c \\in \\{c_1, c_2 \\}} P(c \\mid d)$$\n"
   ]
  },
  {
   "cell_type": "markdown",
   "metadata": {},
   "source": [
    "## Research problem ##\n",
    "\n",
    "The medieval writer Saxo Grammatricus (c. 1160 - post 1208) represents the beginning of the modern day historian in Scandinavia. Saxo's history of the Danes *Gesta Danorum* (\"Deeds of the Danes\") is the single most important written source to Danish history in the 12<sup>th</sup> century. *Gesta Danorum*  is tendentious, contains elements of fiction, and its compositions has been an academic subject of debate for more than a century. The more recent debate treat the bipartite composition *Gesta Danorum* and centers on two related issues: 1) is the transition between the old mythical and new historical part located in book eight, nine, or ten; and 2) is this transition gradual (continuous) or sudden (point-like)? In this tutorial we will ask \"is book nine more similar to the early books (1-8) or the late books (10-16)\". This is an example uses simple vector space techniques from author chronometry to represent the most salient stylistic and semantic leaxical features of *Gesta Danorum*."
   ]
  },
  {
   "cell_type": "code",
   "execution_count": 8,
   "metadata": {},
   "outputs": [
    {
     "name": "stdout",
     "output_type": "stream",
     "text": [
      "{'late', 'uncertain', 'early'}\n"
     ]
    }
   ],
   "source": [
    "import os\n",
    "import numpy as np\n",
    "import pandas as pd\n",
    "\n",
    "from sklearn.feature_extraction.text import CountVectorizer\n",
    "from sklearn.naive_bayes import MultinomialNB\n",
    "from sklearn import metrics\n",
    "from collections import Counter\n",
    "\n",
    "\n",
    "data_path = os.path.join(\"data\",\"saxo_books\",\"saxo_class.csv\")\n",
    "\n",
    "data = pd.read_csv(data_path)\n",
    "\n",
    "#print(data.tail())\n",
    "\n",
    "print(set(data[\"book_class\"]))"
   ]
  },
  {
   "cell_type": "markdown",
   "metadata": {},
   "source": [
    "### split data ###"
   ]
  },
  {
   "cell_type": "code",
   "execution_count": 9,
   "metadata": {},
   "outputs": [],
   "source": [
    "idx = data[\"book_class\"] == \"uncertain\"\n",
    "\n",
    "data_uncertain = data[idx]\n",
    "data = data[~idx]"
   ]
  },
  {
   "cell_type": "code",
   "execution_count": 14,
   "metadata": {},
   "outputs": [
    {
     "name": "stdout",
     "output_type": "stream",
     "text": [
      "number of late: 707\n",
      "number of early: 518\n"
     ]
    },
    {
     "data": {
      "text/plain": [
       "count     1225\n",
       "unique       2\n",
       "top       late\n",
       "freq       707\n",
       "Name: book_class, dtype: object"
      ]
     },
     "execution_count": 14,
     "metadata": {},
     "output_type": "execute_result"
    }
   ],
   "source": [
    "def print_dist(df):\n",
    "    \"\"\" print distribution of classes\n",
    "    \"\"\"\n",
    "    for label in set(df[\"book_class\"]):\n",
    "        print(\"number of {}: {}\".format(label,sum(df[\"book_class\"] == label)))\n",
    "\n",
    "print_dist(data)\n",
    "\n",
    "# Ross' pandas magic\n",
    "data[\"book_class\"].describe()"
   ]
  },
  {
   "cell_type": "code",
   "execution_count": 18,
   "metadata": {},
   "outputs": [],
   "source": [
    "ratio = 0.8\n",
    "mask = np.random.rand(len(data)) <= ratio\n",
    "\n",
    "train = data[mask]\n",
    "test = data[~mask]\n",
    "\n",
    "## training set\n",
    "X_train = train[\"content\"].values\n",
    "y_train = train[\"book_class\"].values\n",
    "\n",
    "# testing\n",
    "X_test = test[\"content\"].values\n",
    "y_test = test[\"book_class\"].values"
   ]
  },
  {
   "cell_type": "code",
   "execution_count": 21,
   "metadata": {},
   "outputs": [
    {
     "name": "stdout",
     "output_type": "stream",
     "text": [
      "['absalon', 'ad', 'af at', 'af de', 'af dem', 'af den', 'af en', 'af hans', 'af med', 'af sider', 'af sin', 'af sine', 'af sted', 'al', 'aldrig', 'alene', 'alle', 'allerede', 'alt', 'altid', 'altså', 'anden', 'andet', 'andre', 'angreb', 'at blive', 'at de', 'at den', 'at der', 'at det', 'at få', 'at give', 'at gøre', 'at han', 'at have', 'at holde', 'at komme', 'at man', 'at se', 'at sætte', 'at tage', 'bad', 'bag', 'bare', 'bedre', 'begge', 'begyndte', 'besked', 'besluttede', 'blandt', 'blev', 'blev han', 'blevet', 'blive', 'bror', 'byen', 'både', 'da', 'da de', 'da det', 'da han', 'dag', 'danmark', 'danmarks', 'danmarks historie', 'danske', 'danskerne', 'de havde', 'de ikke', 'de to', 'de var', 'del', 'dem', 'dem der', 'dem til', 'den anden', 'den der', 'den ene', 'den mand', 'den måde', 'denne', 'der havde', 'der ikke', 'der skulle', 'der var', 'deres', 'derfor', 'derpå', 'det er', 'det gik', 'det ikke', 'det var', 'dette', 'dig', 'din', 'disse', 'dog', 'drog', 'du', 'død', 'døden', 'efter', 'efter at', 'eftersom', 'egen', 'eget', 'egne', 'eller', 'en af', 'en mand', 'end', 'endnu', 'ene', 'eneste', 'enten', 'er', 'erik', 'erklærede', 'et', 'fandt', 'far', 'fast', 'fik', 'fik han', 'finde', 'fjenden', 'flåde', 'folk', 'folket', 'for at', 'for de', 'for dem', 'for den', 'for deres', 'for det', 'for en', 'for ham', 'for han', 'for hans', 'for sin', 'fordi', 'fordi han', 'forsøgte', 'fra', 'fra den', 'fred', 'frem', 'frem for', 'fri', 'frode', 'fulgte', 'få', 'fået', 'følge', 'følte', 'før', 'først', 'første', 'gamle', 'gang', 'ganske', 'gav', 'gav ham', 'gennem', 'gik', 'gik op', 'give', 'givet', 'gjorde', 'gjort', 'godt', 'grund', 'gå', 'gøre', 'ham', 'ham at', 'ham for', 'ham med', 'ham og', 'ham om', 'ham til', 'han at', 'han blev', 'han fik', 'han ham', 'han havde', 'han ikke', 'han kunne', 'han med', 'han nu', 'han selv', 'han sig', 'han sin', 'han skulle', 'han så', 'han var', 'han ville', 'hans', 'har', 'harald', 'havde fået', 'havde han', 'havde været', 'have', 'havet', 'hele', 'hellere', 'helt', 'hen', 'hende', 'hendes', 'henrik', 'her', 'historie', 'hjem', 'hjælp', 'holde', 'holdt', 'hos', 'hun', 'hvad', 'hvad han', 'hvem', 'hver', 'hverken', 'hvis', 'hvis han', 'hvor', 'hvor han', 'hvordan', 'hvorefter', 'hvorefter han', 'hånd', 'hær', 'hævne', 'hørte', 'igen', 'igennem', 'ikke at', 'ikke havde', 'ikke kunne', 'ikke skulle', 'ikke var', 'imod', 'ind', 'inden', 'ingen', 'ja', 'jeg', 'jer', 'jeres', 'jo', 'kaldte', 'kamp', 'kan', 'kastede', 'klar', 'knud', 'kom', 'komme', 'kommet', 'konge', 'kongen', 'kongens', 'krig', 'krigere', 'kun', 'kunne', 'kunne han', 'kæmpe', 'lade', 'lagde', 'land', 'landet', 'langt', 'lige', 'lige så', 'lille', 'liv', 'livet', 'lod', 'lod han', 'lov', 'lovede', 'lykkedes', 'lå', 'lægge', 'længe', 'løfte', 'magnus', 'magt', 'man', 'mand', 'mand der', 'mange', 'med at', 'med de', 'med den', 'med deres', 'med en', 'med et', 'med ham', 'med sig', 'med sin', 'meget', 'mellem', 'men', 'men da', 'men han', 'men også', 'mens', 'mens han', 'mente', 'mere', 'midt', 'mig', 'min', 'mindre', 'mod', 'må', 'måde', 'måtte', 'mænd', 'møde', 'navn', 'ned', 'nemlig', 'netop', 'nogen', 'noget', 'nogle', 'nok', 'nu', 'nu var', 'nåede', 'når', 'når de', 'og da', 'og de', 'og den', 'og derfor', 'og det', 'og for', 'og gav', 'og han', 'og ikke', 'og med', 'og som', 'og så', 'også', 'om', 'om at', 'om de', 'om det', 'om han', 'op', 'op for', 'ord', 'ordre', 'over', 'over at', 'over for', 'på at', 'på de', 'på den', 'på det', 'på en', 'på hans', 'på sin', 'rige', 'råd', 'sagde', 'samme', 'sammen', 'sammen med', 'samtidig', 'sat', 'satte', 'saxo', 'saxo saxos', 'saxos', 'saxos danmarks', 'se', 'sejlede', 'selv', 'selv om', 'sendte', 'senere', 'side', 'sider', 'sider saxo', 'sidst', 'sig af', 'sig at', 'sig for', 'sig med', 'sig og', 'sig over', 'sig på', 'sig selv', 'sig så', 'sig til', 'sige', 'sin', 'sin egen', 'sind', 'sine', 'sit', 'sit eget', 'sjælland', 'skal', 'skib', 'skibe', 'skibene', 'skulle', 'skyld', 'skåne', 'skæbne', 'slag', 'slags', 'snart', 'som', 'som de', 'som den', 'som en', 'som han', 'som om', 'spurgte', 'stadig', 'sted', 'stedet', 'stille', 'stod', 'stor', 'store', 'stort', 'straf', 'straks', 'styrke', 'stå', 'større', 'svarede', 'sven', 'sværd', 'så han', 'så meget', 'så snart', 'sådan', 'sætte', 'søn', 'sønner', 'tage', 'taget', 'tapperhed', 'tid', 'til at', 'til den', 'til en', 'tilbage', 'tilbage til', 'to', 'tog', 'trak', 'tre', 'ud', 'ud af', 'ude', 'uden', 'uden at', 'under', 'unge', 'valdemar', 'var at', 'var blevet', 'var der', 'var det', 'var en', 'var han', 'var så', 'ved', 'ved at', 'ved navn', 'vej', 'vejen', 'venderne', 'vendte', 'venner', 'vi', 'vidste', 'vil', 'ville', 'ville han', 'ville være', 'viste', 'vores', 'våben', 'væk', 'være', 'været', 'øjeblik']\n"
     ]
    }
   ],
   "source": [
    "vectorizer = CountVectorizer(ngram_range=(1,2), stop_words = None, lowercase = True, \n",
    "                             max_df = 0.9, min_df = 0.01, max_features = 500)\n",
    "\n",
    "feature_train = vectorizer.fit_transform(X_train)\n",
    "feature_test = vectorizer.fit_transform(X_test)\n",
    "feature_names = vectorizer.get_feature_names()\n",
    "\n",
    "print(feature_names)"
   ]
  },
  {
   "cell_type": "code",
   "execution_count": 28,
   "metadata": {},
   "outputs": [
    {
     "name": "stdout",
     "output_type": "stream",
     "text": [
      "Accuracy: 0.62\n",
      "0.5771428571428572\n"
     ]
    }
   ],
   "source": [
    "nb_classifier = MultinomialNB()\n",
    "nb_classifier.fit(feature_train,y_train)\n",
    "\n",
    "# evaluate\n",
    "pred = nb_classifier.predict(feature_test)\n",
    "\n",
    "# accuracy\n",
    "print(\"Accuracy: {}\".format(round(metrics.accuracy_score(y_test,pred),2)))\n",
    "\n",
    "print(707/1225)"
   ]
  },
  {
   "cell_type": "code",
   "execution_count": 30,
   "metadata": {},
   "outputs": [
    {
     "name": "stdout",
     "output_type": "stream",
     "text": [
      "book 9 has 16 votes for early style and 27 for late style\n"
     ]
    }
   ],
   "source": [
    "feature_uncertain = vectorizer.transform(data_uncertain[\"content\"])\n",
    "uncertain_class = nb_classifier.predict(feature_uncertain)\n",
    "decision= Counter(uncertain_class)\n",
    "\n",
    "print(\"book 9 has {} votes for early style and {} for late style\".format(decision[\"early\"],decision[\"late\"]))"
   ]
  }
 ],
 "metadata": {
  "kernelspec": {
   "display_name": "Python 3",
   "language": "python",
   "name": "python3"
  },
  "language_info": {
   "codemirror_mode": {
    "name": "ipython",
    "version": 3
   },
   "file_extension": ".py",
   "mimetype": "text/x-python",
   "name": "python",
   "nbconvert_exporter": "python",
   "pygments_lexer": "ipython3",
   "version": "3.5.2"
  }
 },
 "nbformat": 4,
 "nbformat_minor": 2
}
