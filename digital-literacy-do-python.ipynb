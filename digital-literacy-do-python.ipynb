{
 "cells": [
  {
   "cell_type": "markdown",
   "metadata": {},
   "source": [
    "# Let's Code Along - Digital Literacy Do Python #\n",
    "\n",
    "I document my code here and there"
   ]
  },
  {
   "cell_type": "markdown",
   "metadata": {},
   "source": [
    "Import **Numpy** module and use *function* to read csv file in data directory"
   ]
  },
  {
   "cell_type": "code",
   "execution_count": null,
   "metadata": {},
   "outputs": [],
   "source": [
    "import numpy as np\n",
    "\n",
    "data = np.loadtxt(fname=\"data/inflammation-01.csv\", delimiter=\",\")\n",
    "print(data.shape)\n"
   ]
  },
  {
   "cell_type": "markdown",
   "metadata": {},
   "source": [
    "## Lesson 1: Analyzing patient data ## "
   ]
  },
  {
   "cell_type": "code",
   "execution_count": null,
   "metadata": {},
   "outputs": [],
   "source": [
    "weight_kg = 55\n",
    "patient = \"John\""
   ]
  },
  {
   "cell_type": "code",
   "execution_count": null,
   "metadata": {},
   "outputs": [],
   "source": [
    "print(weight_kg)\n",
    "print(\"weight in pounds for {} is {}\".format(patient,round(2.2*weight_kg,2)))"
   ]
  },
  {
   "cell_type": "code",
   "execution_count": null,
   "metadata": {},
   "outputs": [],
   "source": [
    "%matplotlib inline\n",
    "import matplotlib.pyplot as plt\n",
    "img = plt.imshow(data)\n",
    "plt.show(img)"
   ]
  },
  {
   "cell_type": "markdown",
   "metadata": {},
   "source": [
    "### Indexing matrix/tabular data/arrays ###"
   ]
  },
  {
   "cell_type": "code",
   "execution_count": null,
   "metadata": {},
   "outputs": [],
   "source": [
    "print(\"the first value {}\".format(data[0,0]))\n",
    "print(\"the middle value is {}\".format(data[30,20]))\n",
    "print(data[0:4,0:10])"
   ]
  },
  {
   "cell_type": "markdown",
   "metadata": {},
   "source": [
    "arithemetics with matrices"
   ]
  },
  {
   "cell_type": "code",
   "execution_count": null,
   "metadata": {},
   "outputs": [],
   "source": [
    "doubledata = data*2\n",
    "print(doubledata[0:4,0:10])"
   ]
  },
  {
   "cell_type": "markdown",
   "metadata": {},
   "source": [
    "basic modeling with arrays"
   ]
  },
  {
   "cell_type": "code",
   "execution_count": null,
   "metadata": {},
   "outputs": [],
   "source": [
    "maxval = np.max(data,axis=0)\n",
    "#print(maxval)\n",
    "minval = np.min(data,axis=0)\n",
    "\n",
    "print(np.mean(data))\n",
    "print(np.std(data))"
   ]
  },
  {
   "cell_type": "code",
   "execution_count": null,
   "metadata": {},
   "outputs": [],
   "source": [
    "fig = plt.figure(figsize=(10.,3.))\n",
    "\n",
    "axes1 = fig.add_subplot(1,3,1)\n",
    "axes2 = fig.add_subplot(1,3,2)\n",
    "axes3 = fig.add_subplot(1,3,3)\n",
    "\n",
    "axes1.set_ylabel(\"Average\")\n",
    "axes1.plot(np.mean(data,axis=0),color=\"red\")\n",
    "\n",
    "axes2.set_ylabel(\"Maximum\")\n",
    "axes2.plot(np.max(data,axis=0))\n",
    "\n",
    "axes3.set_ylabel(\"Minimum\")\n",
    "axes3.plot(np.min(data,axis=0))\n",
    "\n",
    "plt.tight_layout()\n",
    "#plt.show()\n",
    "plt.savefig(fname=\"figures/meanmaxmin_1.png\",dpi=300)"
   ]
  },
  {
   "cell_type": "markdown",
   "metadata": {},
   "source": [
    "## Lesson 2: Repeating actions with loops ##"
   ]
  },
  {
   "cell_type": "code",
   "execution_count": null,
   "metadata": {},
   "outputs": [],
   "source": [
    "word = \"mind\"\n",
    "print(word)\n",
    "print(len(word))\n",
    "\n",
    "print(word[0])\n",
    "print(word[1])\n",
    "print(word[2])\n",
    "print(word[3])"
   ]
  },
  {
   "cell_type": "markdown",
   "metadata": {},
   "source": [
    "scale with loop"
   ]
  },
  {
   "cell_type": "code",
   "execution_count": null,
   "metadata": {},
   "outputs": [],
   "source": [
    "for char in word:\n",
    "    print(char)\n",
    "    "
   ]
  },
  {
   "cell_type": "code",
   "execution_count": null,
   "metadata": {},
   "outputs": [],
   "source": [
    "tolkien_list = [\"Hobbit.txt\",\"Dragon.txt\",\"Ring.txt\"]\n",
    "result_list = []\n",
    "for word in tolkien_list:\n",
    "    word_norm = word.lower()\n",
    "    word_norm = word_norm.split(\".\")[0]\n",
    "    #print(word_norm)\n",
    "    result_list.append(word_norm)\n",
    "    \n",
    "print(result_list)"
   ]
  },
  {
   "cell_type": "code",
   "execution_count": null,
   "metadata": {},
   "outputs": [],
   "source": [
    "word = \"Darth Vader\"\n",
    "word_backwards = str()\n",
    "\n",
    "idx = 0\n",
    "for char in word:\n",
    "    #print(char)\n",
    "    word_backwards = char + word_backwards\n",
    "    print(idx,word_backwards)\n",
    "    idx = idx + 1\n",
    "print()\n",
    "print(\"Resulting word is{}\".format(word_backwards))"
   ]
  },
  {
   "cell_type": "markdown",
   "metadata": {},
   "source": [
    "## Lesson 3: Storing Multiple Values in Lists ##"
   ]
  },
  {
   "cell_type": "markdown",
   "metadata": {},
   "source": [
    "## Lesson 4: Analyzing data from multiple files"
   ]
  },
  {
   "cell_type": "code",
   "execution_count": null,
   "metadata": {},
   "outputs": [],
   "source": [
    "import glob\n",
    "print(glob.glob(\"data/inflammation*.csv\"))"
   ]
  },
  {
   "cell_type": "code",
   "execution_count": null,
   "metadata": {},
   "outputs": [],
   "source": [
    "filenames = sorted(glob.glob(\"data/inflammation*.csv\"))\n",
    "\n",
    "idx = 1# index for continous file naming\n",
    "for filename in filenames:\n",
    "    data = np.loadtxt(fname=filename, delimiter=\",\")\n",
    "    \n",
    "    fig = plt.figure(figsize=(10.,3.))\n",
    "\n",
    "    axes1 = fig.add_subplot(1,3,1)\n",
    "    axes2 = fig.add_subplot(1,3,2)\n",
    "    axes3 = fig.add_subplot(1,3,3)\n",
    "\n",
    "    axes1.set_ylabel(\"Average\")\n",
    "    axes1.plot(np.mean(data,axis=0),color=\"red\")\n",
    "\n",
    "    axes2.set_ylabel(\"Maximum\")\n",
    "    axes2.plot(np.max(data,axis=0))\n",
    "\n",
    "    axes3.set_ylabel(\"Minimum\")\n",
    "    axes3.plot(np.min(data,axis=0))\n",
    "\n",
    "    plt.tight_layout()\n",
    "    plt.savefig(fname=\"figures/meanmaxmin_{}.png\".format(idx))\n",
    "    idx = idx + 1# update index"
   ]
  },
  {
   "cell_type": "markdown",
   "metadata": {},
   "source": [
    "## Lesson 5: Making choices ##"
   ]
  },
  {
   "cell_type": "markdown",
   "metadata": {},
   "source": [
    "## Lesson 6"
   ]
  }
 ],
 "metadata": {
  "kernelspec": {
   "display_name": "demo",
   "language": "python",
   "name": "demo"
  },
  "language_info": {
   "codemirror_mode": {
    "name": "ipython",
    "version": 3
   },
   "file_extension": ".py",
   "mimetype": "text/x-python",
   "name": "python",
   "nbconvert_exporter": "python",
   "pygments_lexer": "ipython3",
   "version": "3.5.2"
  }
 },
 "nbformat": 4,
 "nbformat_minor": 2
}
